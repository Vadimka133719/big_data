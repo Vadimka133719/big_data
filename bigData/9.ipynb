{
 "cells": [
  {
   "cell_type": "markdown",
   "id": "8f61bceb",
   "metadata": {},
   "source": [
    "## Numpy arrays math"
   ]
  },
  {
   "cell_type": "code",
   "execution_count": 1,
   "id": "b3204124",
   "metadata": {},
   "outputs": [],
   "source": [
    "import numpy as np"
   ]
  },
  {
   "cell_type": "code",
   "execution_count": 2,
   "id": "e739e710",
   "metadata": {},
   "outputs": [],
   "source": [
    "a = np.arange(2,20,2)"
   ]
  },
  {
   "cell_type": "code",
   "execution_count": 3,
   "id": "de9f7827",
   "metadata": {},
   "outputs": [
    {
     "data": {
      "text/plain": [
       "array([ 2,  4,  6,  8, 10, 12, 14, 16, 18])"
      ]
     },
     "execution_count": 3,
     "metadata": {},
     "output_type": "execute_result"
    }
   ],
   "source": [
    "a"
   ]
  },
  {
   "cell_type": "code",
   "execution_count": 4,
   "id": "ba2d1ae7",
   "metadata": {},
   "outputs": [
    {
     "data": {
      "text/plain": [
       "array([1.41421356, 2.        , 2.44948974, 2.82842712, 3.16227766,\n",
       "       3.46410162, 3.74165739, 4.        , 4.24264069])"
      ]
     },
     "execution_count": 4,
     "metadata": {},
     "output_type": "execute_result"
    }
   ],
   "source": [
    "np.sqrt(a)"
   ]
  },
  {
   "cell_type": "code",
   "execution_count": 5,
   "id": "5cc0e481",
   "metadata": {},
   "outputs": [
    {
     "data": {
      "text/plain": [
       "array([1.41421356, 2.        ])"
      ]
     },
     "execution_count": 5,
     "metadata": {},
     "output_type": "execute_result"
    }
   ],
   "source": [
    "np.sqrt(a[:2])"
   ]
  },
  {
   "cell_type": "code",
   "execution_count": 6,
   "id": "66f760cd",
   "metadata": {},
   "outputs": [
    {
     "data": {
      "text/plain": [
       "array([7.38905610e+00, 5.45981500e+01, 4.03428793e+02, 2.98095799e+03,\n",
       "       2.20264658e+04, 1.62754791e+05, 1.20260428e+06, 8.88611052e+06,\n",
       "       6.56599691e+07])"
      ]
     },
     "execution_count": 6,
     "metadata": {},
     "output_type": "execute_result"
    }
   ],
   "source": [
    "np.exp(a)"
   ]
  },
  {
   "cell_type": "code",
   "execution_count": 7,
   "id": "bea9555b",
   "metadata": {},
   "outputs": [
    {
     "data": {
      "text/plain": [
       "array([ 403.42879349, 2980.95798704])"
      ]
     },
     "execution_count": 7,
     "metadata": {},
     "output_type": "execute_result"
    }
   ],
   "source": [
    "np.exp(a[2:4])"
   ]
  },
  {
   "cell_type": "code",
   "execution_count": 8,
   "id": "fa5e660e",
   "metadata": {},
   "outputs": [
    {
     "data": {
      "text/plain": [
       "array([16, 20])"
      ]
     },
     "execution_count": 8,
     "metadata": {},
     "output_type": "execute_result"
    }
   ],
   "source": [
    "np.add(a[2:4],a[4:6])"
   ]
  },
  {
   "cell_type": "code",
   "execution_count": 9,
   "id": "fea8bf7b",
   "metadata": {},
   "outputs": [
    {
     "data": {
      "text/plain": [
       "array([10, 12])"
      ]
     },
     "execution_count": 9,
     "metadata": {},
     "output_type": "execute_result"
    }
   ],
   "source": [
    "np.maximum(a[2:4],a[4:6])"
   ]
  },
  {
   "cell_type": "code",
   "execution_count": 10,
   "id": "a4704cff",
   "metadata": {},
   "outputs": [
    {
     "data": {
      "text/plain": [
       "array([6, 8])"
      ]
     },
     "execution_count": 10,
     "metadata": {},
     "output_type": "execute_result"
    }
   ],
   "source": [
    "np.minimum(a[2:4],a[4:6])"
   ]
  },
  {
   "cell_type": "code",
   "execution_count": 12,
   "id": "abb195c5",
   "metadata": {},
   "outputs": [
    {
     "data": {
      "text/plain": [
       "array([[ 2,  4],\n",
       "       [ 6,  8],\n",
       "       [10, 12],\n",
       "       [14, 16]])"
      ]
     },
     "execution_count": 12,
     "metadata": {},
     "output_type": "execute_result"
    }
   ],
   "source": [
    "a[:-1].reshape((4,2))"
   ]
  },
  {
   "cell_type": "code",
   "execution_count": 13,
   "id": "c8cc0c38",
   "metadata": {},
   "outputs": [],
   "source": [
    "b=a[:-1].reshape((4,2))"
   ]
  },
  {
   "cell_type": "code",
   "execution_count": 14,
   "id": "8bd034e6",
   "metadata": {},
   "outputs": [
    {
     "data": {
      "text/plain": [
       "array([[ 2,  4],\n",
       "       [ 6,  8],\n",
       "       [10, 12],\n",
       "       [14, 16]])"
      ]
     },
     "execution_count": 14,
     "metadata": {},
     "output_type": "execute_result"
    }
   ],
   "source": [
    "b"
   ]
  },
  {
   "cell_type": "code",
   "execution_count": 15,
   "id": "cd868a8d",
   "metadata": {},
   "outputs": [
    {
     "data": {
      "text/plain": [
       "array([[ 2,  6, 10, 14],\n",
       "       [ 4,  8, 12, 16]])"
      ]
     },
     "execution_count": 15,
     "metadata": {},
     "output_type": "execute_result"
    }
   ],
   "source": [
    "b.T"
   ]
  },
  {
   "cell_type": "code",
   "execution_count": null,
   "id": "99eddcce",
   "metadata": {},
   "outputs": [],
   "source": []
  }
 ],
 "metadata": {
  "kernelspec": {
   "display_name": "Python 3 (ipykernel)",
   "language": "python",
   "name": "python3"
  },
  "language_info": {
   "codemirror_mode": {
    "name": "ipython",
    "version": 3
   },
   "file_extension": ".py",
   "mimetype": "text/x-python",
   "name": "python",
   "nbconvert_exporter": "python",
   "pygments_lexer": "ipython3",
   "version": "3.9.7"
  }
 },
 "nbformat": 4,
 "nbformat_minor": 5
}
