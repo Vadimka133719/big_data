{
 "cells": [
  {
   "cell_type": "markdown",
   "id": "6e483ae6",
   "metadata": {},
   "source": [
    "## Импорт модулей"
   ]
  },
  {
   "cell_type": "code",
   "execution_count": 3,
   "id": "63933ce6",
   "metadata": {},
   "outputs": [],
   "source": [
    "import numpy as np\n",
    "import matplotlib.pyplot as plt\n",
    "%matplotlib inline"
   ]
  },
  {
   "cell_type": "markdown",
   "id": "e4bd142e",
   "metadata": {},
   "source": [
    "## Данные дохода 10 тыс. человек, нормальное распределение, среднее - 27 тыс. р., диспресия - 15 тыс. р."
   ]
  },
  {
   "cell_type": "code",
   "execution_count": 2,
   "id": "ea49e29f",
   "metadata": {},
   "outputs": [
    {
     "name": "stdout",
     "output_type": "stream",
     "text": [
      "[32510.85646508 25180.50665334 52231.25656641  8686.53398304\n",
      " 13012.03503926 16716.68296767 -4922.48107185 28050.94703636\n",
      " 38397.99323452 12520.87691248]\n"
     ]
    }
   ],
   "source": [
    "incomes = np.random.normal(27000,15000,10000)\n",
    "print(incomes[:10])"
   ]
  },
  {
   "cell_type": "markdown",
   "id": "4a8451a9",
   "metadata": {},
   "source": [
    "## Данные те же, но добавим две аномально высокие зарплаты"
   ]
  },
  {
   "cell_type": "code",
   "execution_count": 4,
   "id": "fba30b7c",
   "metadata": {},
   "outputs": [
    {
     "name": "stdout",
     "output_type": "stream",
     "text": [
      "[2.23250126e+04 1.87295825e+04 2.60880116e+04 1.00000000e+08\n",
      " 1.20000000e+09]\n"
     ]
    }
   ],
   "source": [
    "incomes_1 = np.append(incomes,[100000000,1200000000])\n",
    "print(incomes_1[-5:])"
   ]
  },
  {
   "cell_type": "markdown",
   "id": "8cf5b256",
   "metadata": {},
   "source": [
    "## Гистрограмма (50 столбцов) для нормального распределения"
   ]
  },
  {
   "cell_type": "code",
   "execution_count": 5,
   "id": "975539d7",
   "metadata": {},
   "outputs": [
    {
     "data": {
      "image/png": "[encoded data removed]",
      "text/plain": [
       "<Figure size 432x288 with 1 Axes>"
      ]
     },
     "metadata": {
      "needs_background": "light"
     },
     "output_type": "display_data"
    }
   ],
   "source": [
    "plt.hist(incomes,50)\n",
    "plt.show()"
   ]
  },
  {
   "cell_type": "markdown",
   "id": "394ed021",
   "metadata": {},
   "source": [
    "## Гистограмма для данных с аномалиями"
   ]
  },
  {
   "cell_type": "code",
   "execution_count": 6,
   "id": "bbee32b6",
   "metadata": {},
   "outputs": [
    {
     "data": {
      "image/png": "[encoded data removed]",
      "text/plain": [
       "<Figure size 432x288 with 1 Axes>"
      ]
     },
     "metadata": {
      "needs_background": "light"
     },
     "output_type": "display_data"
    }
   ],
   "source": [
    "plt.hist(incomes_1,50)\n",
    "plt.show()"
   ]
  },
  {
   "cell_type": "code",
   "execution_count": null,
   "id": "a4ad4160",
   "metadata": {},
   "outputs": [],
   "source": []
  }
 ],
 "metadata": {
  "kernelspec": {
   "display_name": "Python 3 (ipykernel)",
   "language": "python",
   "name": "python3"
  },
  "language_info": {
   "codemirror_mode": {
    "name": "ipython",
    "version": 3
   },
   "file_extension": ".py",
   "mimetype": "text/x-python",
   "name": "python",
   "nbconvert_exporter": "python",
   "pygments_lexer": "ipython3",
   "version": "3.9.7"
  }
 },
 "nbformat": 4,
 "nbformat_minor": 5
}
