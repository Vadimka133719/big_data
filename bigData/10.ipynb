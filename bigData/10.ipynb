{
 "cells": [
  {
   "cell_type": "markdown",
   "id": "beff3ce2",
   "metadata": {},
   "source": [
    "## Pandas 1 Ряды"
   ]
  },
  {
   "cell_type": "code",
   "execution_count": 1,
   "id": "18c741bc",
   "metadata": {},
   "outputs": [],
   "source": [
    "import numpy as np\n",
    "import pandas as pd\n",
    "from pandas import Series, DataFrame"
   ]
  },
  {
   "cell_type": "markdown",
   "id": "feca258c",
   "metadata": {},
   "source": [
    "## Создание ряда, вывод значений и индексов"
   ]
  },
  {
   "cell_type": "code",
   "execution_count": 3,
   "id": "ed06d303",
   "metadata": {},
   "outputs": [],
   "source": [
    "obj = Series([3,6,9,12])"
   ]
  },
  {
   "cell_type": "code",
   "execution_count": 4,
   "id": "f676c921",
   "metadata": {},
   "outputs": [
    {
     "name": "stdout",
     "output_type": "stream",
     "text": [
      "0     3\n",
      "1     6\n",
      "2     9\n",
      "3    12\n",
      "dtype: int64\n"
     ]
    }
   ],
   "source": [
    "print(obj)"
   ]
  },
  {
   "cell_type": "code",
   "execution_count": 5,
   "id": "9f143f8b",
   "metadata": {},
   "outputs": [
    {
     "data": {
      "text/plain": [
       "array([ 3,  6,  9, 12], dtype=int64)"
      ]
     },
     "execution_count": 5,
     "metadata": {},
     "output_type": "execute_result"
    }
   ],
   "source": [
    "obj.values"
   ]
  },
  {
   "cell_type": "code",
   "execution_count": 6,
   "id": "170baef4",
   "metadata": {},
   "outputs": [
    {
     "data": {
      "text/plain": [
       "RangeIndex(start=0, stop=4, step=1)"
      ]
     },
     "execution_count": 6,
     "metadata": {},
     "output_type": "execute_result"
    }
   ],
   "source": [
    "obj.index"
   ]
  },
  {
   "cell_type": "markdown",
   "id": "76966f2d",
   "metadata": {},
   "source": [
    "## Создание ряда c индексами"
   ]
  },
  {
   "cell_type": "code",
   "execution_count": 7,
   "id": "b994097b",
   "metadata": {},
   "outputs": [
    {
     "name": "stdout",
     "output_type": "stream",
     "text": [
      "First     870\n",
      "Second    430\n",
      "Third     300\n",
      "Fourth    210\n",
      "Fifth     400\n",
      "dtype: int64\n"
     ]
    }
   ],
   "source": [
    "obj2 = Series([870,430,300,210,400], index = ['First','Second','Third','Fourth','Fifth'])\n",
    "print(obj2)"
   ]
  },
  {
   "cell_type": "markdown",
   "id": "b387baed",
   "metadata": {},
   "source": [
    "## Вывод значения по индексу"
   ]
  },
  {
   "cell_type": "code",
   "execution_count": 8,
   "id": "204d6ab6",
   "metadata": {},
   "outputs": [
    {
     "data": {
      "text/plain": [
       "430"
      ]
     },
     "execution_count": 8,
     "metadata": {},
     "output_type": "execute_result"
    }
   ],
   "source": [
    "obj2['Second']"
   ]
  },
  {
   "cell_type": "code",
   "execution_count": 9,
   "id": "4f941164",
   "metadata": {},
   "outputs": [
    {
     "data": {
      "text/plain": [
       "First     870\n",
       "Second    430\n",
       "Third     300\n",
       "Fourth    210\n",
       "Fifth     400\n",
       "dtype: int64"
      ]
     },
     "execution_count": 9,
     "metadata": {},
     "output_type": "execute_result"
    }
   ],
   "source": [
    "obj2[obj2>200]"
   ]
  },
  {
   "cell_type": "code",
   "execution_count": 10,
   "id": "b9c83fcb",
   "metadata": {},
   "outputs": [
    {
     "data": {
      "text/plain": [
       "First     870\n",
       "Second    430\n",
       "dtype: int64"
      ]
     },
     "execution_count": 10,
     "metadata": {},
     "output_type": "execute_result"
    }
   ],
   "source": [
    "obj2[obj2>400]"
   ]
  },
  {
   "cell_type": "code",
   "execution_count": 11,
   "id": "4da9f638",
   "metadata": {},
   "outputs": [
    {
     "data": {
      "text/plain": [
       "True"
      ]
     },
     "execution_count": 11,
     "metadata": {},
     "output_type": "execute_result"
    }
   ],
   "source": [
    "'Third' in obj2"
   ]
  },
  {
   "cell_type": "markdown",
   "id": "34d2210b",
   "metadata": {},
   "source": [
    "## Преобразование в словарь и обратно"
   ]
  },
  {
   "cell_type": "code",
   "execution_count": 13,
   "id": "50c04086",
   "metadata": {},
   "outputs": [
    {
     "name": "stdout",
     "output_type": "stream",
     "text": [
      "{'First': 870, 'Second': 430, 'Third': 300, 'Fourth': 210, 'Fifth': 400}\n"
     ]
    }
   ],
   "source": [
    "obj2_dictionary = obj2.to_dict()\n",
    "print(obj2_dictionary)"
   ]
  },
  {
   "cell_type": "code",
   "execution_count": 14,
   "id": "2d78a6dd",
   "metadata": {},
   "outputs": [
    {
     "name": "stdout",
     "output_type": "stream",
     "text": [
      "First     870\n",
      "Second    430\n",
      "Third     300\n",
      "Fourth    210\n",
      "Fifth     400\n",
      "dtype: int64\n"
     ]
    }
   ],
   "source": [
    "obj3 = Series(obj2_dictionary)\n",
    "print(obj3)"
   ]
  },
  {
   "cell_type": "markdown",
   "id": "29354d95",
   "metadata": {},
   "source": [
    "## Создание словаря с новым индексом"
   ]
  },
  {
   "cell_type": "code",
   "execution_count": 15,
   "id": "162705b9",
   "metadata": {},
   "outputs": [
    {
     "name": "stdout",
     "output_type": "stream",
     "text": [
      "1st   NaN\n",
      "2nd   NaN\n",
      "3rd   NaN\n",
      "4th   NaN\n",
      "5th   NaN\n",
      "dtype: float64\n"
     ]
    }
   ],
   "source": [
    "names = ['1st','2nd','3rd','4th','5th']\n",
    "obj4 = Series(obj2_dictionary, index=names)\n",
    "print(obj4)"
   ]
  },
  {
   "cell_type": "code",
   "execution_count": 17,
   "id": "298cf6d3",
   "metadata": {},
   "outputs": [
    {
     "name": "stdout",
     "output_type": "stream",
     "text": [
      "First     870.0\n",
      "Second    430.0\n",
      "Third     300.0\n",
      "4th         NaN\n",
      "5th         NaN\n",
      "dtype: float64\n"
     ]
    }
   ],
   "source": [
    "names = ['First','Second','Third','4th','5th']\n",
    "obj4 = Series(obj2_dictionary, index=names)\n",
    "print(obj4)"
   ]
  },
  {
   "cell_type": "markdown",
   "id": "80f5c5a5",
   "metadata": {},
   "source": [
    "## Проверка наличия или отсутствия NaN"
   ]
  },
  {
   "cell_type": "code",
   "execution_count": 18,
   "id": "46ad9784",
   "metadata": {},
   "outputs": [
    {
     "data": {
      "text/plain": [
       "First     False\n",
       "Second    False\n",
       "Third     False\n",
       "Fourth    False\n",
       "Fifth     False\n",
       "dtype: bool"
      ]
     },
     "execution_count": 18,
     "metadata": {},
     "output_type": "execute_result"
    }
   ],
   "source": [
    "pd.isnull(obj2)"
   ]
  },
  {
   "cell_type": "code",
   "execution_count": 19,
   "id": "cd5b2099",
   "metadata": {},
   "outputs": [
    {
     "data": {
      "text/plain": [
       "First     False\n",
       "Second    False\n",
       "Third     False\n",
       "4th        True\n",
       "5th        True\n",
       "dtype: bool"
      ]
     },
     "execution_count": 19,
     "metadata": {},
     "output_type": "execute_result"
    }
   ],
   "source": [
    "pd.isnull(obj4)"
   ]
  },
  {
   "cell_type": "code",
   "execution_count": 20,
   "id": "1e00c4e1",
   "metadata": {},
   "outputs": [
    {
     "data": {
      "text/plain": [
       "First      True\n",
       "Second     True\n",
       "Third      True\n",
       "4th       False\n",
       "5th       False\n",
       "dtype: bool"
      ]
     },
     "execution_count": 20,
     "metadata": {},
     "output_type": "execute_result"
    }
   ],
   "source": [
    "pd.notnull(obj4)"
   ]
  },
  {
   "cell_type": "markdown",
   "id": "c184d923",
   "metadata": {},
   "source": [
    "## Сложение рядов"
   ]
  },
  {
   "cell_type": "code",
   "execution_count": 21,
   "id": "e3ee5347",
   "metadata": {},
   "outputs": [
    {
     "data": {
      "text/plain": [
       "4th          NaN\n",
       "5th          NaN\n",
       "Fifth        NaN\n",
       "First     1740.0\n",
       "Fourth       NaN\n",
       "Second     860.0\n",
       "Third      600.0\n",
       "dtype: float64"
      ]
     },
     "execution_count": 21,
     "metadata": {},
     "output_type": "execute_result"
    }
   ],
   "source": [
    "obj2+obj4"
   ]
  },
  {
   "cell_type": "code",
   "execution_count": null,
   "id": "42a1afb0",
   "metadata": {},
   "outputs": [],
   "source": []
  }
 ],
 "metadata": {
  "kernelspec": {
   "display_name": "Python 3 (ipykernel)",
   "language": "python",
   "name": "python3"
  },
  "language_info": {
   "codemirror_mode": {
    "name": "ipython",
    "version": 3
   },
   "file_extension": ".py",
   "mimetype": "text/x-python",
   "name": "python",
   "nbconvert_exporter": "python",
   "pygments_lexer": "ipython3",
   "version": "3.9.7"
  }
 },
 "nbformat": 4,
 "nbformat_minor": 5
}
