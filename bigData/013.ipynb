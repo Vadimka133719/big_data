{
 "cells": [
  {
   "cell_type": "markdown",
   "id": "092dc656",
   "metadata": {},
   "source": [
    "## Доходы с нормальным распределением"
   ]
  },
  {
   "cell_type": "code",
   "execution_count": 1,
   "id": "2ebfc839",
   "metadata": {},
   "outputs": [],
   "source": [
    "import numpy as np\n",
    "from scipy import stats"
   ]
  },
  {
   "cell_type": "code",
   "execution_count": 2,
   "id": "9b056916",
   "metadata": {},
   "outputs": [],
   "source": [
    "incomes = np.random.normal(27000,15000,10000)"
   ]
  },
  {
   "cell_type": "markdown",
   "id": "9635bf38",
   "metadata": {},
   "source": [
    "## Доходы с двумя аномальными записями"
   ]
  },
  {
   "cell_type": "code",
   "execution_count": 3,
   "id": "cba5f2de",
   "metadata": {},
   "outputs": [],
   "source": [
    "incomes_1 = np.append (incomes, [1000000000,1200000000])"
   ]
  },
  {
   "cell_type": "markdown",
   "id": "5367845c",
   "metadata": {},
   "source": [
    "## Среднее, медиана и мода"
   ]
  },
  {
   "cell_type": "markdown",
   "id": "e66ac4a9",
   "metadata": {},
   "source": [
    "#### Среднее"
   ]
  },
  {
   "cell_type": "code",
   "execution_count": 6,
   "id": "f884f26a",
   "metadata": {},
   "outputs": [
    {
     "name": "stdout",
     "output_type": "stream",
     "text": [
      "26827.180748142055\n",
      "246777.82518310548\n"
     ]
    }
   ],
   "source": [
    "print(np.mean(incomes))\n",
    "print(np.mean(incomes_1))"
   ]
  },
  {
   "cell_type": "markdown",
   "id": "94978aa5",
   "metadata": {},
   "source": [
    "#### Медиана"
   ]
  },
  {
   "cell_type": "code",
   "execution_count": 7,
   "id": "351c6a43",
   "metadata": {},
   "outputs": [
    {
     "name": "stdout",
     "output_type": "stream",
     "text": [
      "26870.16095175739\n",
      "26873.864286012562\n"
     ]
    }
   ],
   "source": [
    "print(np.median(incomes))\n",
    "print(np.median(incomes_1))"
   ]
  },
  {
   "cell_type": "markdown",
   "id": "ce3cce7b",
   "metadata": {},
   "source": [
    "#### Мода "
   ]
  },
  {
   "cell_type": "code",
   "execution_count": 8,
   "id": "ceff0c0e",
   "metadata": {},
   "outputs": [
    {
     "name": "stdout",
     "output_type": "stream",
     "text": [
      "ModeResult(mode=array([-35385.61398728]), count=array([1]))\n",
      "ModeResult(mode=array([-35385.61398728]), count=array([1]))\n"
     ]
    }
   ],
   "source": [
    "print(stats.mode(incomes))\n",
    "print(stats.mode(incomes_1))"
   ]
  },
  {
   "cell_type": "code",
   "execution_count": null,
   "id": "3d1a724d",
   "metadata": {},
   "outputs": [],
   "source": []
  }
 ],
 "metadata": {
  "kernelspec": {
   "display_name": "Python 3 (ipykernel)",
   "language": "python",
   "name": "python3"
  },
  "language_info": {
   "codemirror_mode": {
    "name": "ipython",
    "version": 3
   },
   "file_extension": ".py",
   "mimetype": "text/x-python",
   "name": "python",
   "nbconvert_exporter": "python",
   "pygments_lexer": "ipython3",
   "version": "3.9.7"
  }
 },
 "nbformat": 4,
 "nbformat_minor": 5
}
