{
 "cells": [
  {
   "cell_type": "markdown",
   "id": "a5ca4624",
   "metadata": {},
   "source": [
    "## Импорт модулей"
   ]
  },
  {
   "cell_type": "code",
   "execution_count": 8,
   "id": "14e8a1fa",
   "metadata": {},
   "outputs": [],
   "source": [
    "import numpy as np\n",
    "import matplotlib.pyplot as plt\n",
    "%matplotlib inline"
   ]
  },
  {
   "cell_type": "markdown",
   "id": "d78c463e",
   "metadata": {},
   "source": [
    "## Данные доходов 10 тыс. человек, нормальное распределение, среднее - 27 тыс. р., диспресия - 15 тыс.р"
   ]
  },
  {
   "cell_type": "code",
   "execution_count": 2,
   "id": "e79fea82",
   "metadata": {},
   "outputs": [
    {
     "name": "stdout",
     "output_type": "stream",
     "text": [
      "[41970.31380801 45999.65178675 38548.06904532 27972.28015324\n",
      " 20511.83696513 52602.08222109 26824.18915696  2371.81162866\n",
      " 31635.71012965 29230.43000138]\n"
     ]
    }
   ],
   "source": [
    "incomes = np.random.normal(27000,15000,10000)\n",
    "print(incomes[:10])"
   ]
  },
  {
   "cell_type": "markdown",
   "id": "7117a6a9",
   "metadata": {},
   "source": [
    "## Данные те же, но добавим две аномально высокие зарплаты"
   ]
  },
  {
   "cell_type": "code",
   "execution_count": 3,
   "id": "beb88338",
   "metadata": {},
   "outputs": [
    {
     "name": "stdout",
     "output_type": "stream",
     "text": [
      "[3.61812608e+04 4.07260779e+04 1.68410845e+04 1.00000000e+09\n",
      " 1.20000000e+09]\n"
     ]
    }
   ],
   "source": [
    "incomes_1 = np.append(incomes,[1000000000,1200000000])\n",
    "print (incomes_1[-5:])"
   ]
  },
  {
   "cell_type": "markdown",
   "id": "48d790f9",
   "metadata": {},
   "source": [
    "## Гистограмма (50 столбцов) для нормального распределения "
   ]
  },
  {
   "cell_type": "code",
   "execution_count": 9,
   "id": "a0e690a2",
   "metadata": {},
   "outputs": [
    {
     "data": {
      "image/png": "[encoded data removed]",
      "text/plain": [
       "<Figure size 432x288 with 1 Axes>"
      ]
     },
     "metadata": {
      "needs_background": "light"
     },
     "output_type": "display_data"
    }
   ],
   "source": [
    "plt.hist(incomes,50)\n",
    "plt.show()"
   ]
  },
  {
   "cell_type": "markdown",
   "id": "50165c49",
   "metadata": {},
   "source": [
    "## Гистограмма для данных с аномалиями "
   ]
  },
  {
   "cell_type": "code",
   "execution_count": 10,
   "id": "1bbc6e60",
   "metadata": {},
   "outputs": [
    {
     "data": {
      "image/png": "[encoded data removed]",
      "text/plain": [
       "<Figure size 432x288 with 1 Axes>"
      ]
     },
     "metadata": {
      "needs_background": "light"
     },
     "output_type": "display_data"
    }
   ],
   "source": [
    "plt.hist(incomes_1,50)\n",
    "plt.show()"
   ]
  },
  {
   "cell_type": "code",
   "execution_count": null,
   "id": "40953ee8",
   "metadata": {},
   "outputs": [],
   "source": []
  },
  {
   "cell_type": "code",
   "execution_count": null,
   "id": "1bb5d3ff",
   "metadata": {},
   "outputs": [],
   "source": []
  },
  {
   "cell_type": "code",
   "execution_count": null,
   "id": "3b01afcb",
   "metadata": {},
   "outputs": [],
   "source": []
  }
 ],
 "metadata": {
  "kernelspec": {
   "display_name": "Python 3 (ipykernel)",
   "language": "python",
   "name": "python3"
  },
  "language_info": {
   "codemirror_mode": {
    "name": "ipython",
    "version": 3
   },
   "file_extension": ".py",
   "mimetype": "text/x-python",
   "name": "python",
   "nbconvert_exporter": "python",
   "pygments_lexer": "ipython3",
   "version": "3.9.7"
  }
 },
 "nbformat": 4,
 "nbformat_minor": 5
}
