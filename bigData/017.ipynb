{
 "cells": [
  {
   "cell_type": "code",
   "execution_count": 7,
   "id": "f2070e3f",
   "metadata": {},
   "outputs": [],
   "source": [
    "import numpy as np\n",
    "import matplotlib.pyplot as plt\n",
    "import pandas as pd\n",
    "%matplotlib inline"
   ]
  },
  {
   "cell_type": "code",
   "execution_count": 8,
   "id": "06a2abb0",
   "metadata": {},
   "outputs": [],
   "source": [
    "from sklearn.preprocessing import StandardScaler\n",
    "# Предобработка данных\n",
    "from sklearn.svm import SVR\n",
    "# Метод опорных векторов"
   ]
  },
  {
   "cell_type": "markdown",
   "id": "bc5a8a4e",
   "metadata": {},
   "source": [
    "## Загрузка данных из файла (второй и третий столбец)"
   ]
  },
  {
   "cell_type": "code",
   "execution_count": 10,
   "id": "4eacf2b0",
   "metadata": {},
   "outputs": [],
   "source": [
    "dataset = pd.read_csv('Downloads/Wells_Debit.csv')"
   ]
  },
  {
   "cell_type": "code",
   "execution_count": 11,
   "id": "46da5fa6",
   "metadata": {},
   "outputs": [
    {
     "data": {
      "text/html": [
       "<div>\n",
       "<style scoped>\n",
       "    .dataframe tbody tr th:only-of-type {\n",
       "        vertical-align: middle;\n",
       "    }\n",
       "\n",
       "    .dataframe tbody tr th {\n",
       "        vertical-align: top;\n",
       "    }\n",
       "\n",
       "    .dataframe thead th {\n",
       "        text-align: right;\n",
       "    }\n",
       "</style>\n",
       "<table border=\"1\" class=\"dataframe\">\n",
       "  <thead>\n",
       "    <tr style=\"text-align: right;\">\n",
       "      <th></th>\n",
       "      <th>Well Name</th>\n",
       "      <th>Level</th>\n",
       "      <th>Debit</th>\n",
       "    </tr>\n",
       "  </thead>\n",
       "  <tbody>\n",
       "    <tr>\n",
       "      <th>0</th>\n",
       "      <td>First</td>\n",
       "      <td>1</td>\n",
       "      <td>45000</td>\n",
       "    </tr>\n",
       "    <tr>\n",
       "      <th>1</th>\n",
       "      <td>Second</td>\n",
       "      <td>2</td>\n",
       "      <td>50000</td>\n",
       "    </tr>\n",
       "    <tr>\n",
       "      <th>2</th>\n",
       "      <td>Third</td>\n",
       "      <td>3</td>\n",
       "      <td>60000</td>\n",
       "    </tr>\n",
       "    <tr>\n",
       "      <th>3</th>\n",
       "      <td>Fourth</td>\n",
       "      <td>4</td>\n",
       "      <td>80000</td>\n",
       "    </tr>\n",
       "    <tr>\n",
       "      <th>4</th>\n",
       "      <td>Fifth</td>\n",
       "      <td>5</td>\n",
       "      <td>110000</td>\n",
       "    </tr>\n",
       "  </tbody>\n",
       "</table>\n",
       "</div>"
      ],
      "text/plain": [
       "  Well Name  Level   Debit\n",
       "0     First      1   45000\n",
       "1    Second      2   50000\n",
       "2     Third      3   60000\n",
       "3    Fourth      4   80000\n",
       "4     Fifth      5  110000"
      ]
     },
     "execution_count": 11,
     "metadata": {},
     "output_type": "execute_result"
    }
   ],
   "source": [
    "dataset.head()"
   ]
  },
  {
   "cell_type": "code",
   "execution_count": 12,
   "id": "244d7047",
   "metadata": {},
   "outputs": [],
   "source": [
    "X = dataset.iloc[:, 1:2].values\n",
    "Y = dataset.iloc[:, 2].values"
   ]
  },
  {
   "cell_type": "code",
   "execution_count": 13,
   "id": "25e34f9f",
   "metadata": {},
   "outputs": [
    {
     "data": {
      "text/plain": [
       "array([[ 1,  2,  3,  4,  5,  6,  7,  8,  9, 10]], dtype=int64)"
      ]
     },
     "execution_count": 13,
     "metadata": {},
     "output_type": "execute_result"
    }
   ],
   "source": [
    "X.T"
   ]
  },
  {
   "cell_type": "code",
   "execution_count": 14,
   "id": "1ea4760b",
   "metadata": {},
   "outputs": [
    {
     "data": {
      "text/plain": [
       "array([  45000,   50000,   60000,   80000,  110000,  150000,  200000,\n",
       "        300000,  500000, 1000000], dtype=int64)"
      ]
     },
     "execution_count": 14,
     "metadata": {},
     "output_type": "execute_result"
    }
   ],
   "source": [
    "Y"
   ]
  },
  {
   "cell_type": "code",
   "execution_count": 15,
   "id": "b6d6c2f7",
   "metadata": {},
   "outputs": [
    {
     "data": {
      "text/plain": [
       "<matplotlib.collections.PathCollection at 0x22cd70b0d30>"
      ]
     },
     "execution_count": 15,
     "metadata": {},
     "output_type": "execute_result"
    },
    {
     "data": {
      "image/png": "[encoded data removed]",
      "text/plain": [
       "<Figure size 432x288 with 1 Axes>"
      ]
     },
     "metadata": {
      "needs_background": "light"
     },
     "output_type": "display_data"
    }
   ],
   "source": [
    "plt.scatter(X,Y)"
   ]
  },
  {
   "cell_type": "markdown",
   "id": "bb07610a",
   "metadata": {},
   "source": [
    "## Нормировка данных"
   ]
  },
  {
   "cell_type": "code",
   "execution_count": 18,
   "id": "1c129d26",
   "metadata": {},
   "outputs": [
    {
     "name": "stdout",
     "output_type": "stream",
     "text": [
      "[[-1.5666989  -1.21854359 -0.87038828 -0.52223297 -0.17407766  0.17407766\n",
      "   0.52223297  0.87038828  1.21854359  1.5666989 ]]\n"
     ]
    }
   ],
   "source": [
    "sc_X = StandardScaler()\n",
    "X = sc_X.fit_transform(X)\n",
    "print(X.T)"
   ]
  },
  {
   "cell_type": "code",
   "execution_count": 19,
   "id": "764686d7",
   "metadata": {},
   "outputs": [
    {
     "data": {
      "text/plain": [
       "array([[  45000,   50000,   60000,   80000,  110000,  150000,  200000,\n",
       "         300000,  500000, 1000000]], dtype=int64)"
      ]
     },
     "execution_count": 19,
     "metadata": {},
     "output_type": "execute_result"
    }
   ],
   "source": [
    "Y.reshape(-1,1).T"
   ]
  },
  {
   "cell_type": "code",
   "execution_count": 23,
   "id": "9ed184bb",
   "metadata": {},
   "outputs": [
    {
     "name": "stdout",
     "output_type": "stream",
     "text": [
      "[[-0.72004253 -0.70243757 -0.66722767 -0.59680786 -0.49117815 -0.35033854\n",
      "  -0.17428902  0.17781001  0.88200808  2.64250325]]\n"
     ]
    }
   ],
   "source": [
    "sc_Y = StandardScaler()\n",
    "Y = sc_Y.fit_transform(Y.reshape(-1,1))\n",
    "print(Y.T)"
   ]
  },
  {
   "cell_type": "code",
   "execution_count": 24,
   "id": "935980ca",
   "metadata": {},
   "outputs": [
    {
     "data": {
      "text/plain": [
       "<matplotlib.collections.PathCollection at 0x22cd7864a90>"
      ]
     },
     "execution_count": 24,
     "metadata": {},
     "output_type": "execute_result"
    },
    {
     "data": {
      "image/png": "[encoded data removed]",
      "text/plain": [
       "<Figure size 432x288 with 1 Axes>"
      ]
     },
     "metadata": {
      "needs_background": "light"
     },
     "output_type": "display_data"
    }
   ],
   "source": [
    "plt.scatter(X,Y.T)"
   ]
  },
  {
   "cell_type": "markdown",
   "id": "42d8b59f",
   "metadata": {},
   "source": [
    "## Метод опорных векторов"
   ]
  },
  {
   "cell_type": "code",
   "execution_count": 26,
   "id": "ab88d2bc",
   "metadata": {},
   "outputs": [
    {
     "data": {
      "text/plain": [
       "SVR()"
      ]
     },
     "execution_count": 26,
     "metadata": {},
     "output_type": "execute_result"
    }
   ],
   "source": [
    "SVM_regressor = SVR(kernel = 'rbf')\n",
    "SVM_regressor.fit(X, Y.T[0])"
   ]
  },
  {
   "cell_type": "markdown",
   "id": "22594f41",
   "metadata": {},
   "source": [
    "## Прогноз значения дебита"
   ]
  },
  {
   "cell_type": "code",
   "execution_count": 29,
   "id": "1283a426",
   "metadata": {},
   "outputs": [],
   "source": [
    "X_ = sc_X.transform(np.array([[12.0]]))"
   ]
  },
  {
   "cell_type": "code",
   "execution_count": 30,
   "id": "cdf53101",
   "metadata": {},
   "outputs": [],
   "source": [
    "Y_pred = sc_Y.inverse_transform(SVM_regressor.predict(X_))"
   ]
  },
  {
   "cell_type": "code",
   "execution_count": 31,
   "id": "ee633bb9",
   "metadata": {},
   "outputs": [
    {
     "name": "stdout",
     "output_type": "stream",
     "text": [
      "[0.74590557]\n"
     ]
    }
   ],
   "source": [
    "print(Y_pred)"
   ]
  },
  {
   "cell_type": "markdown",
   "id": "155c0eb0",
   "metadata": {},
   "source": [
    "## Визуализация прогноза"
   ]
  },
  {
   "cell_type": "markdown",
   "id": "03d40390",
   "metadata": {},
   "source": [
    "#### В нормализованных значениях"
   ]
  },
  {
   "cell_type": "code",
   "execution_count": 34,
   "id": "bcfcea3d",
   "metadata": {},
   "outputs": [
    {
     "data": {
      "image/png": "[encoded data removed]",
      "text/plain": [
       "<Figure size 432x288 with 1 Axes>"
      ]
     },
     "metadata": {
      "needs_background": "light"
     },
     "output_type": "display_data"
    }
   ],
   "source": [
    "plt.scatter(X, Y, color = 'red')\n",
    "plt.plot(X, SVM_regressor.predict(X), color = 'blue')\n",
    "plt.title('Модель регрессии')\n",
    "plt.xlabel('Level')\n",
    "plt.ylabel('Debit')\n",
    "plt.show()"
   ]
  },
  {
   "cell_type": "markdown",
   "id": "29ecca7b",
   "metadata": {},
   "source": [
    "#### В исходных значениях"
   ]
  },
  {
   "cell_type": "code",
   "execution_count": 39,
   "id": "5a69acd0",
   "metadata": {},
   "outputs": [],
   "source": [
    "X_real = sc_X.inverse_transform(X)\n",
    "y_real = sc_Y.inverse_transform(Y)\n",
    "X_predict_real = sc_Y.inverse_transform(SVM_regressor.predict(X))\n"
   ]
  },
  {
   "cell_type": "code",
   "execution_count": 40,
   "id": "e8330788",
   "metadata": {},
   "outputs": [
    {
     "data": {
      "image/png": "[encoded data removed]",
      "text/plain": [
       "<Figure size 432x288 with 1 Axes>"
      ]
     },
     "metadata": {
      "needs_background": "light"
     },
     "output_type": "display_data"
    }
   ],
   "source": [
    "plt.scatter(X_real, y_real, color = 'red')\n",
    "plt.plot(X_real, X_predict_real, color = 'blue')\n",
    "plt.title('Модель регрессии')\n",
    "plt.xlabel('Level')\n",
    "plt.ylabel('Debit')\n",
    "plt.show()"
   ]
  }
 ],
 "metadata": {
  "kernelspec": {
   "display_name": "Python 3 (ipykernel)",
   "language": "python",
   "name": "python3"
  },
  "language_info": {
   "codemirror_mode": {
    "name": "ipython",
    "version": 3
   },
   "file_extension": ".py",
   "mimetype": "text/x-python",
   "name": "python",
   "nbconvert_exporter": "python",
   "pygments_lexer": "ipython3",
   "version": "3.9.7"
  }
 },
 "nbformat": 4,
 "nbformat_minor": 5
}
