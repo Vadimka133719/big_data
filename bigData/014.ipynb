{
 "cells": [
  {
   "cell_type": "code",
   "execution_count": 1,
   "id": "302cad8d",
   "metadata": {},
   "outputs": [],
   "source": [
    "import numpy as np\n",
    "from scipy import stats\n",
    "import matplotlib.pyplot as plt\n",
    "%matplotlib inline "
   ]
  },
  {
   "cell_type": "markdown",
   "id": "c6161a6a",
   "metadata": {},
   "source": [
    "## Доходы с нормальным распределением"
   ]
  },
  {
   "cell_type": "code",
   "execution_count": 2,
   "id": "48146463",
   "metadata": {},
   "outputs": [],
   "source": [
    "incomes = np.random.normal(27000,15000,10000)"
   ]
  },
  {
   "cell_type": "markdown",
   "id": "97921ab4",
   "metadata": {},
   "source": [
    "## Доходы со ста аномальными записями"
   ]
  },
  {
   "cell_type": "code",
   "execution_count": 3,
   "id": "980f3fe4",
   "metadata": {},
   "outputs": [],
   "source": [
    "anomalies = np.random.normal(150000,150,100)"
   ]
  },
  {
   "cell_type": "code",
   "execution_count": 7,
   "id": "6a2caf01",
   "metadata": {},
   "outputs": [],
   "source": [
    "incomes_1 = np.concatenate((incomes,anomalies))"
   ]
  },
  {
   "cell_type": "markdown",
   "id": "56fc821b",
   "metadata": {},
   "source": [
    "## Гистограмма"
   ]
  },
  {
   "cell_type": "code",
   "execution_count": 8,
   "id": "e55db85f",
   "metadata": {},
   "outputs": [
    {
     "data": {
      "image/png": "[encoded data removed]",
      "text/plain": [
       "<Figure size 432x288 with 1 Axes>"
      ]
     },
     "metadata": {
      "needs_background": "light"
     },
     "output_type": "display_data"
    }
   ],
   "source": [
    "plt.hist(incomes_1,50)\n",
    "plt.show()"
   ]
  },
  {
   "cell_type": "markdown",
   "id": "5c54bb95",
   "metadata": {},
   "source": [
    "## Ящик с усами (boxplot)"
   ]
  },
  {
   "cell_type": "code",
   "execution_count": 9,
   "id": "d1d77e63",
   "metadata": {},
   "outputs": [
    {
     "data": {
      "image/png": "[encoded data removed]",
      "text/plain": [
       "<Figure size 432x288 with 1 Axes>"
      ]
     },
     "metadata": {
      "needs_background": "light"
     },
     "output_type": "display_data"
    }
   ],
   "source": [
    "plt.boxplot(incomes)\n",
    "plt.show()"
   ]
  },
  {
   "cell_type": "code",
   "execution_count": 10,
   "id": "f8af48ad",
   "metadata": {},
   "outputs": [
    {
     "data": {
      "image/png": "[encoded data removed]",
      "text/plain": [
       "<Figure size 432x288 with 1 Axes>"
      ]
     },
     "metadata": {
      "needs_background": "light"
     },
     "output_type": "display_data"
    }
   ],
   "source": [
    "plt.boxplot(incomes_1)\n",
    "plt.show()"
   ]
  },
  {
   "cell_type": "markdown",
   "id": "3719aaff",
   "metadata": {},
   "source": [
    "## Среднеквадратичное отклонение и дисперсия"
   ]
  },
  {
   "cell_type": "code",
   "execution_count": 11,
   "id": "3b3efc24",
   "metadata": {},
   "outputs": [
    {
     "name": "stdout",
     "output_type": "stream",
     "text": [
      "15128.903513267607\n",
      "19356.134553530268\n"
     ]
    }
   ],
   "source": [
    "print(np.std(incomes))\n",
    "print(np.std(incomes_1))"
   ]
  },
  {
   "cell_type": "code",
   "execution_count": 13,
   "id": "9c9625b4",
   "metadata": {},
   "outputs": [
    {
     "name": "stdout",
     "output_type": "stream",
     "text": [
      "228883721.51376092\n",
      "374659944.85436845\n"
     ]
    }
   ],
   "source": [
    "print(np.var(incomes))\n",
    "print(np.var(incomes_1))"
   ]
  },
  {
   "cell_type": "markdown",
   "id": "70c691cf",
   "metadata": {},
   "source": [
    "## Коэффициенты наклона и эксцесса"
   ]
  },
  {
   "cell_type": "code",
   "execution_count": 16,
   "id": "ebdbdf12",
   "metadata": {},
   "outputs": [],
   "source": [
    "import scipy.stats as sp"
   ]
  },
  {
   "cell_type": "code",
   "execution_count": 17,
   "id": "38a95f47",
   "metadata": {},
   "outputs": [
    {
     "name": "stdout",
     "output_type": "stream",
     "text": [
      "0.028292758308191623\n",
      "2.358316786238537\n"
     ]
    }
   ],
   "source": [
    "print(sp.skew(incomes))\n",
    "print(sp.skew(incomes_1))"
   ]
  },
  {
   "cell_type": "code",
   "execution_count": 18,
   "id": "ef30a833",
   "metadata": {},
   "outputs": [
    {
     "name": "stdout",
     "output_type": "stream",
     "text": [
      "0.04087775781798397\n",
      "13.593568291114963\n"
     ]
    }
   ],
   "source": [
    "print(sp.kurtosis(incomes))\n",
    "print(sp.kurtosis(incomes_1))"
   ]
  },
  {
   "cell_type": "code",
   "execution_count": null,
   "id": "7c9fa879",
   "metadata": {},
   "outputs": [],
   "source": []
  }
 ],
 "metadata": {
  "kernelspec": {
   "display_name": "Python 3 (ipykernel)",
   "language": "python",
   "name": "python3"
  },
  "language_info": {
   "codemirror_mode": {
    "name": "ipython",
    "version": 3
   },
   "file_extension": ".py",
   "mimetype": "text/x-python",
   "name": "python",
   "nbconvert_exporter": "python",
   "pygments_lexer": "ipython3",
   "version": "3.9.7"
  }
 },
 "nbformat": 4,
 "nbformat_minor": 5
}
