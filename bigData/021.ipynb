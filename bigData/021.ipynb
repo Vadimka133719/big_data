{
 "cells": [
  {
   "cell_type": "markdown",
   "id": "a3cf0efb",
   "metadata": {},
   "source": [
    "# Cluster based Local Outlier Factor (CBLOF)"
   ]
  },
  {
   "cell_type": "code",
   "execution_count": 1,
   "id": "b4b4039f",
   "metadata": {},
   "outputs": [
    {
     "ename": "SyntaxError",
     "evalue": "invalid syntax (Temp/ipykernel_7920/723490053.py, line 1)",
     "output_type": "error",
     "traceback": [
      "\u001b[1;36m  File \u001b[1;32m\"C:\\Users\\836D~1\\AppData\\Local\\Temp/ipykernel_7920/723490053.py\"\u001b[1;36m, line \u001b[1;32m1\u001b[0m\n\u001b[1;33m    Основано на работе: He, Z., Xu, X. i Deng, S. (2003).\u001b[0m\n\u001b[1;37m             ^\u001b[0m\n\u001b[1;31mSyntaxError\u001b[0m\u001b[1;31m:\u001b[0m invalid syntax\n"
     ]
    }
   ],
   "source": [
    "Основано на работе: He, Z., Xu, X. i Deng, S. (2003). \n",
    "Discovering cluster based local outliers, \n",
    "Pattern Recognition letters, 24 (9-10), str. 1651-1660."
   ]
  },
  {
   "cell_type": "markdown",
   "id": "9d4e1bb5",
   "metadata": {},
   "source": [
    "## Импортируем библиотеки"
   ]
  },
  {
   "cell_type": "code",
   "execution_count": 2,
   "id": "98364c82",
   "metadata": {},
   "outputs": [],
   "source": [
    "import numpy as np\n",
    "import matplotlib.pyplot as plt\n",
    "%matplotlib inline"
   ]
  },
  {
   "cell_type": "markdown",
   "id": "b6afb43a",
   "metadata": {},
   "source": [
    "## Сгенерируем случайные данные"
   ]
  },
  {
   "cell_type": "markdown",
   "id": "4c38b9d8",
   "metadata": {},
   "source": [
    "#### Инициируем новый генеротор"
   ]
  },
  {
   "cell_type": "code",
   "execution_count": 3,
   "id": "85853b5e",
   "metadata": {},
   "outputs": [],
   "source": [
    "np.random.seed(42)"
   ]
  },
  {
   "cell_type": "markdown",
   "id": "40707d51",
   "metadata": {},
   "source": [
    "#### Сгенерируем две выборки нормальных значений и объединим их в два кластера"
   ]
  },
  {
   "cell_type": "code",
   "execution_count": 5,
   "id": "8dc43011",
   "metadata": {},
   "outputs": [],
   "source": [
    "X_inliers = 0.3 * np.random.randn(100,2)\n",
    "X_inliers = np.r_[X_inliers + 2, X_inliers - 2]"
   ]
  },
  {
   "cell_type": "code",
   "execution_count": 7,
   "id": "28729cfa",
   "metadata": {},
   "outputs": [
    {
     "data": {
      "image/png": "[encoded data removed]",
      "text/plain": [
       "<Figure size 432x288 with 1 Axes>"
      ]
     },
     "metadata": {
      "needs_background": "light"
     },
     "output_type": "display_data"
    }
   ],
   "source": [
    "plt.hist(X_inliers)\n",
    "plt.show()"
   ]
  },
  {
   "cell_type": "markdown",
   "id": "9948be8e",
   "metadata": {},
   "source": [
    "## Сгенерируем некоторые аномалии (выбросы- outliers)"
   ]
  },
  {
   "cell_type": "code",
   "execution_count": 11,
   "id": "6a2af778",
   "metadata": {},
   "outputs": [],
   "source": [
    "X_outliers = np.random.uniform(low = -4, high = 4, size = (20,2))\n",
    "X = np.r_[X_inliers, X_outliers]"
   ]
  },
  {
   "cell_type": "code",
   "execution_count": 13,
   "id": "98df6334",
   "metadata": {},
   "outputs": [
    {
     "data": {
      "image/png": "[encoded data removed]",
      "text/plain": [
       "<Figure size 432x288 with 1 Axes>"
      ]
     },
     "metadata": {
      "needs_background": "light"
     },
     "output_type": "display_data"
    }
   ],
   "source": [
    "plt.hist(X)\n",
    "plt.show()"
   ]
  },
  {
   "cell_type": "markdown",
   "id": "10c60e19",
   "metadata": {},
   "source": [
    "### Подсчитаем количество выбросов и пометим их -1 (правильные значения 1)"
   ]
  },
  {
   "cell_type": "code",
   "execution_count": 23,
   "id": "2717bffb",
   "metadata": {},
   "outputs": [],
   "source": [
    "n_outliers = len(X_outliers)"
   ]
  },
  {
   "cell_type": "code",
   "execution_count": 26,
   "id": "d8956f88",
   "metadata": {},
   "outputs": [],
   "source": [
    "ground_truth = np.ones(len(X), dtype = int)\n",
    "ground_truth[-n_outliers:] = -1"
   ]
  },
  {
   "cell_type": "markdown",
   "id": "22d11915",
   "metadata": {},
   "source": [
    "## Построим модель для вычисления выбросов (по умолчанию число соседей = 20, contamination или засоренность данных = 0.1)"
   ]
  },
  {
   "cell_type": "code",
   "execution_count": 27,
   "id": "c4da6413",
   "metadata": {},
   "outputs": [
    {
     "ename": "ModuleNotFoundError",
     "evalue": "No module named 'pyod'",
     "output_type": "error",
     "traceback": [
      "\u001b[1;31m---------------------------------------------------------------------------\u001b[0m",
      "\u001b[1;31mModuleNotFoundError\u001b[0m                       Traceback (most recent call last)",
      "\u001b[1;32mC:\\Users\\836D~1\\AppData\\Local\\Temp/ipykernel_7920/2801246162.py\u001b[0m in \u001b[0;36m<module>\u001b[1;34m\u001b[0m\n\u001b[1;32m----> 1\u001b[1;33m \u001b[1;32mfrom\u001b[0m \u001b[0mpyod\u001b[0m\u001b[1;33m.\u001b[0m\u001b[0mmodels\u001b[0m\u001b[1;33m.\u001b[0m\u001b[0mcblof\u001b[0m \u001b[1;32mimport\u001b[0m \u001b[0mCBLOF\u001b[0m\u001b[1;33m\u001b[0m\u001b[1;33m\u001b[0m\u001b[0m\n\u001b[0m\u001b[0;32m      2\u001b[0m \u001b[0mrandom_state\u001b[0m \u001b[1;33m=\u001b[0m  \u001b[0mnp\u001b[0m\u001b[1;33m.\u001b[0m\u001b[0mrandom\u001b[0m\u001b[1;33m.\u001b[0m\u001b[0mRandomState\u001b[0m\u001b[1;33m(\u001b[0m\u001b[1;36m42\u001b[0m\u001b[1;33m)\u001b[0m\u001b[1;33m\u001b[0m\u001b[1;33m\u001b[0m\u001b[0m\n",
      "\u001b[1;31mModuleNotFoundError\u001b[0m: No module named 'pyod'"
     ]
    }
   ],
   "source": [
    "from pyod.models.cblof import CBLOF\n",
    "random_state =  np.random.RandomState(42)"
   ]
  },
  {
   "cell_type": "markdown",
   "id": "2d6089e7",
   "metadata": {},
   "source": [
    "### Доля аномалий"
   ]
  },
  {
   "cell_type": "code",
   "execution_count": 21,
   "id": "c14bc1ab",
   "metadata": {},
   "outputs": [],
   "source": [
    "outliers_fraction = 0.25"
   ]
  },
  {
   "cell_type": "code",
   "execution_count": 22,
   "id": "38f899cd",
   "metadata": {},
   "outputs": [
    {
     "ename": "NameError",
     "evalue": "name 'CBLOF' is not defined",
     "output_type": "error",
     "traceback": [
      "\u001b[1;31m---------------------------------------------------------------------------\u001b[0m",
      "\u001b[1;31mNameError\u001b[0m                                 Traceback (most recent call last)",
      "\u001b[1;32mC:\\Users\\836D~1\\AppData\\Local\\Temp/ipykernel_7920/3634354731.py\u001b[0m in \u001b[0;36m<module>\u001b[1;34m\u001b[0m\n\u001b[1;32m----> 1\u001b[1;33m \u001b[0mclf\u001b[0m \u001b[1;33m=\u001b[0m \u001b[0mCBLOF\u001b[0m\u001b[1;33m(\u001b[0m\u001b[0malpha\u001b[0m \u001b[1;33m=\u001b[0m \u001b[1;36m0.9\u001b[0m\u001b[1;33m,\u001b[0m \u001b[0mbeta\u001b[0m \u001b[1;33m=\u001b[0m \u001b[1;36m5\u001b[0m\u001b[1;33m,\u001b[0m \u001b[0mcheck_estimator\u001b[0m \u001b[1;33m=\u001b[0m \u001b[1;32mFalse\u001b[0m\u001b[1;33m,\u001b[0m \u001b[0mclustering_estimator\u001b[0m \u001b[1;33m=\u001b[0m \u001b[1;32mNone\u001b[0m\u001b[1;33m,\u001b[0m \u001b[0mcontamination\u001b[0m \u001b[1;33m=\u001b[0m \u001b[1;36m0.25\u001b[0m\u001b[1;33m,\u001b[0m \u001b[0mn_clusters\u001b[0m \u001b[1;33m=\u001b[0m \u001b[1;36m8\u001b[0m\u001b[1;33m,\u001b[0m \u001b[0mn_jobs\u001b[0m \u001b[1;33m=\u001b[0m \u001b[1;36m1\u001b[0m\u001b[1;33m,\u001b[0m \u001b[0mrandom_state\u001b[0m \u001b[1;33m=\u001b[0m \u001b[0mrandom_state\u001b[0m\u001b[1;33m,\u001b[0m \u001b[0muse_weights\u001b[0m \u001b[1;33m=\u001b[0m \u001b[1;32mFalse\u001b[0m\u001b[1;33m)\u001b[0m\u001b[1;33m\u001b[0m\u001b[1;33m\u001b[0m\u001b[0m\n\u001b[0m",
      "\u001b[1;31mNameError\u001b[0m: name 'CBLOF' is not defined"
     ]
    }
   ],
   "source": [
    "clf = CBLOF(alpha = 0.9, beta = 5, check_estimator = False, clustering_estimator = None, contamination = 0.25, n_clusters = 8, n_jobs = 1, random_state = random_state, use_weights = False)"
   ]
  },
  {
   "cell_type": "markdown",
   "id": "ddcb1a61",
   "metadata": {},
   "source": [
    "## Используем fit_predict для вычисления прогнозных меток тренировочных выборок"
   ]
  },
  {
   "cell_type": "code",
   "execution_count": 29,
   "id": "fc6be882",
   "metadata": {},
   "outputs": [
    {
     "ename": "NameError",
     "evalue": "name 'clf' is not defined",
     "output_type": "error",
     "traceback": [
      "\u001b[1;31m---------------------------------------------------------------------------\u001b[0m",
      "\u001b[1;31mNameError\u001b[0m                                 Traceback (most recent call last)",
      "\u001b[1;32mC:\\Users\\836D~1\\AppData\\Local\\Temp/ipykernel_7920/3536375794.py\u001b[0m in \u001b[0;36m<module>\u001b[1;34m\u001b[0m\n\u001b[1;32m----> 1\u001b[1;33m \u001b[0mclf\u001b[0m\u001b[1;33m.\u001b[0m\u001b[0mfit\u001b[0m\u001b[1;33m(\u001b[0m\u001b[0mX\u001b[0m\u001b[1;33m)\u001b[0m\u001b[1;33m\u001b[0m\u001b[1;33m\u001b[0m\u001b[0m\n\u001b[0m\u001b[0;32m      2\u001b[0m \u001b[0mscores_pred\u001b[0m \u001b[1;33m=\u001b[0m \u001b[0mclf\u001b[0m\u001b[1;33m.\u001b[0m\u001b[0mdecision_function\u001b[0m\u001b[1;33m(\u001b[0m\u001b[0mX\u001b[0m\u001b[1;33m)\u001b[0m \u001b[1;33m*\u001b[0m \u001b[1;33m-\u001b[0m\u001b[1;36m1\u001b[0m\u001b[1;33m\u001b[0m\u001b[1;33m\u001b[0m\u001b[0m\n\u001b[0;32m      3\u001b[0m \u001b[0my_pred\u001b[0m \u001b[1;33m=\u001b[0m \u001b[0mclf\u001b[0m\u001b[1;33m.\u001b[0m\u001b[0mpredict\u001b[0m\u001b[1;33m(\u001b[0m\u001b[0mX\u001b[0m\u001b[1;33m)\u001b[0m\u001b[1;33m\u001b[0m\u001b[1;33m\u001b[0m\u001b[0m\n\u001b[0;32m      4\u001b[0m \u001b[0mn_errors\u001b[0m \u001b[1;33m=\u001b[0m \u001b[1;33m(\u001b[0m\u001b[0my_pred\u001b[0m \u001b[1;33m!=\u001b[0m \u001b[0mground_truth\u001b[0m\u001b[1;33m)\u001b[0m\u001b[1;33m.\u001b[0m\u001b[0msum\u001b[0m\u001b[1;33m(\u001b[0m\u001b[1;33m)\u001b[0m\u001b[1;33m\u001b[0m\u001b[1;33m\u001b[0m\u001b[0m\n\u001b[0;32m      5\u001b[0m \u001b[1;33m\u001b[0m\u001b[0m\n",
      "\u001b[1;31mNameError\u001b[0m: name 'clf' is not defined"
     ]
    }
   ],
   "source": [
    "clf.fit(X)\n",
    "scores_pred = clf.decision_function(X) * -1\n",
    "y_pred = clf.predict(X)\n",
    "n_errors = (y_pred != ground_truth).sum()\n",
    "\n"
   ]
  },
  {
   "cell_type": "code",
   "execution_count": null,
   "id": "a3bff2a9",
   "metadata": {},
   "outputs": [],
   "source": []
  }
 ],
 "metadata": {
  "kernelspec": {
   "display_name": "Python 3 (ipykernel)",
   "language": "python",
   "name": "python3"
  },
  "language_info": {
   "codemirror_mode": {
    "name": "ipython",
    "version": 3
   },
   "file_extension": ".py",
   "mimetype": "text/x-python",
   "name": "python",
   "nbconvert_exporter": "python",
   "pygments_lexer": "ipython3",
   "version": "3.9.7"
  }
 },
 "nbformat": 4,
 "nbformat_minor": 5
}
